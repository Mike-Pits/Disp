{
 "cells": [
  {
   "cell_type": "code",
   "execution_count": 174,
   "metadata": {},
   "outputs": [
    {
     "data": {
      "text/html": [
       "<div>\n",
       "<style scoped>\n",
       "    .dataframe tbody tr th:only-of-type {\n",
       "        vertical-align: middle;\n",
       "    }\n",
       "\n",
       "    .dataframe tbody tr th {\n",
       "        vertical-align: top;\n",
       "    }\n",
       "\n",
       "    .dataframe thead th {\n",
       "        text-align: right;\n",
       "    }\n",
       "</style>\n",
       "<table border=\"1\" class=\"dataframe\">\n",
       "  <thead>\n",
       "    <tr style=\"text-align: right;\">\n",
       "      <th></th>\n",
       "      <th>1 2605/0800</th>\n",
       "    </tr>\n",
       "  </thead>\n",
       "  <tbody>\n",
       "    <tr>\n",
       "      <th>0</th>\n",
       "      <td>2 6445N/04030E</td>\n",
       "    </tr>\n",
       "    <tr>\n",
       "      <th>1</th>\n",
       "      <td>4 300/8</td>\n",
       "    </tr>\n",
       "    <tr>\n",
       "      <th>2</th>\n",
       "      <td>5 0/0</td>\n",
       "    </tr>\n",
       "    <tr>\n",
       "      <th>3</th>\n",
       "      <td>26 2105/1825</td>\n",
       "    </tr>\n",
       "    <tr>\n",
       "      <th>4</th>\n",
       "      <td>27 ТВА</td>\n",
       "    </tr>\n",
       "    <tr>\n",
       "      <th>5</th>\n",
       "      <td>31 88,3/137,4</td>\n",
       "    </tr>\n",
       "    <tr>\n",
       "      <th>6</th>\n",
       "      <td>43 Архангельск</td>\n",
       "    </tr>\n",
       "    <tr>\n",
       "      <th>7</th>\n",
       "      <td>100 Груза нет</td>\n",
       "    </tr>\n",
       "    <tr>\n",
       "      <th>8</th>\n",
       "      <td>Установка береговыми специалистами видеокамер ...</td>\n",
       "    </tr>\n",
       "  </tbody>\n",
       "</table>\n",
       "</div>"
      ],
      "text/plain": [
       "                                         1 2605/0800\n",
       "0                                     2 6445N/04030E\n",
       "1                                            4 300/8\n",
       "2                                              5 0/0\n",
       "3                                       26 2105/1825\n",
       "4                                             27 ТВА\n",
       "5                                      31 88,3/137,4\n",
       "6                                     43 Архангельск\n",
       "7                                      100 Груза нет\n",
       "8  Установка береговыми специалистами видеокамер ..."
      ]
     },
     "execution_count": 174,
     "metadata": {},
     "output_type": "execute_result"
    }
   ],
   "source": [
    "import pandas as pd\n",
    "block = pd.read_clipboard(sep='\\t')\n",
    "block"
   ]
  },
  {
   "cell_type": "code",
   "execution_count": 175,
   "metadata": {},
   "outputs": [
    {
     "data": {
      "text/html": [
       "<div>\n",
       "<style scoped>\n",
       "    .dataframe tbody tr th:only-of-type {\n",
       "        vertical-align: middle;\n",
       "    }\n",
       "\n",
       "    .dataframe tbody tr th {\n",
       "        vertical-align: top;\n",
       "    }\n",
       "\n",
       "    .dataframe thead th {\n",
       "        text-align: right;\n",
       "    }\n",
       "</style>\n",
       "<table border=\"1\" class=\"dataframe\">\n",
       "  <thead>\n",
       "    <tr style=\"text-align: right;\">\n",
       "      <th></th>\n",
       "      <th>0</th>\n",
       "      <th>1</th>\n",
       "      <th>2</th>\n",
       "      <th>3</th>\n",
       "      <th>4</th>\n",
       "      <th>5</th>\n",
       "      <th>6</th>\n",
       "      <th>7</th>\n",
       "      <th>8</th>\n",
       "      <th>9</th>\n",
       "      <th>...</th>\n",
       "      <th>92</th>\n",
       "      <th>93</th>\n",
       "      <th>94</th>\n",
       "      <th>95</th>\n",
       "      <th>96</th>\n",
       "      <th>97</th>\n",
       "      <th>98</th>\n",
       "      <th>99</th>\n",
       "      <th>100</th>\n",
       "      <th>101</th>\n",
       "    </tr>\n",
       "  </thead>\n",
       "  <tbody>\n",
       "    <tr>\n",
       "      <th>0</th>\n",
       "      <td>NaN</td>\n",
       "      <td>NaN</td>\n",
       "      <td>NaN</td>\n",
       "      <td>NaN</td>\n",
       "      <td>NaN</td>\n",
       "      <td>NaN</td>\n",
       "      <td>NaN</td>\n",
       "      <td>NaN</td>\n",
       "      <td>NaN</td>\n",
       "      <td>NaN</td>\n",
       "      <td>...</td>\n",
       "      <td>NaN</td>\n",
       "      <td>NaN</td>\n",
       "      <td>NaN</td>\n",
       "      <td>NaN</td>\n",
       "      <td>NaN</td>\n",
       "      <td>NaN</td>\n",
       "      <td>NaN</td>\n",
       "      <td>NaN</td>\n",
       "      <td>NaN</td>\n",
       "      <td>NaN</td>\n",
       "    </tr>\n",
       "  </tbody>\n",
       "</table>\n",
       "<p>1 rows × 102 columns</p>\n",
       "</div>"
      ],
      "text/plain": [
       "   0    1    2    3    4    5    6    7    8    9    ...  92   93   94   95   \\\n",
       "0  NaN  NaN  NaN  NaN  NaN  NaN  NaN  NaN  NaN  NaN  ...  NaN  NaN  NaN  NaN   \n",
       "\n",
       "   96   97   98   99   100  101  \n",
       "0  NaN  NaN  NaN  NaN  NaN  NaN  \n",
       "\n",
       "[1 rows x 102 columns]"
      ]
     },
     "execution_count": 175,
     "metadata": {},
     "output_type": "execute_result"
    }
   ],
   "source": [
    "COLUMN_NAMES = [l for l in range(0, 102)]\n",
    "df = pd.DataFrame(columns=COLUMN_NAMES, index=[0])\n",
    "df"
   ]
  },
  {
   "cell_type": "code",
   "execution_count": 176,
   "metadata": {},
   "outputs": [
    {
     "data": {
      "text/plain": [
       "'1 2605/0800'"
      ]
     },
     "execution_count": 176,
     "metadata": {},
     "output_type": "execute_result"
    }
   ],
   "source": [
    "block.T.reset_index().values[0][0]"
   ]
  },
  {
   "cell_type": "code",
   "execution_count": 177,
   "metadata": {},
   "outputs": [
    {
     "data": {
      "text/plain": [
       "['1', '2605/0800']"
      ]
     },
     "execution_count": 177,
     "metadata": {},
     "output_type": "execute_result"
    }
   ],
   "source": [
    "list_data = block.T.reset_index().values\n",
    "list_data[0][0].split()"
   ]
  },
  {
   "cell_type": "code",
   "execution_count": 220,
   "metadata": {},
   "outputs": [
    {
     "data": {
      "text/plain": [
       "array([['1 2605/0800', '2 6445N/04030E', '4 300/8', '5 0/0',\n",
       "        '26 2105/1825', '27 ТВА', '31 88,3/137,4', '43 Архангельск',\n",
       "        '100 Груза нет',\n",
       "        'Установка береговыми специалистами видеокамер согласно Транспортной безопасности ']],\n",
       "      dtype=object)"
      ]
     },
     "execution_count": 220,
     "metadata": {},
     "output_type": "execute_result"
    }
   ],
   "source": [
    "list_data"
   ]
  },
  {
   "cell_type": "code",
   "execution_count": 178,
   "metadata": {},
   "outputs": [
    {
     "data": {
      "text/plain": [
       "10"
      ]
     },
     "execution_count": 178,
     "metadata": {},
     "output_type": "execute_result"
    }
   ],
   "source": [
    "len(list_data[0]) "
   ]
  },
  {
   "cell_type": "code",
   "execution_count": 215,
   "metadata": {},
   "outputs": [],
   "source": [
    "for i in range(len(list_data[0])):\n",
    "    if list_data[0][i].split()[0].isdigit():\n",
    "        df.iloc[0, int(list_data[0][i].split()[0])] = ' '.join(list_data[0][i].split()[1:][:])\n",
    "    else:\n",
    "        df.iloc[0, 101] = list_data[0][i]"
   ]
  },
  {
   "cell_type": "code",
   "execution_count": 216,
   "metadata": {},
   "outputs": [
    {
     "data": {
      "text/html": [
       "<div>\n",
       "<style scoped>\n",
       "    .dataframe tbody tr th:only-of-type {\n",
       "        vertical-align: middle;\n",
       "    }\n",
       "\n",
       "    .dataframe tbody tr th {\n",
       "        vertical-align: top;\n",
       "    }\n",
       "\n",
       "    .dataframe thead th {\n",
       "        text-align: right;\n",
       "    }\n",
       "</style>\n",
       "<table border=\"1\" class=\"dataframe\">\n",
       "  <thead>\n",
       "    <tr style=\"text-align: right;\">\n",
       "      <th></th>\n",
       "      <th>0</th>\n",
       "      <th>1</th>\n",
       "      <th>2</th>\n",
       "      <th>3</th>\n",
       "      <th>4</th>\n",
       "      <th>5</th>\n",
       "      <th>6</th>\n",
       "      <th>7</th>\n",
       "      <th>8</th>\n",
       "      <th>9</th>\n",
       "      <th>...</th>\n",
       "      <th>92</th>\n",
       "      <th>93</th>\n",
       "      <th>94</th>\n",
       "      <th>95</th>\n",
       "      <th>96</th>\n",
       "      <th>97</th>\n",
       "      <th>98</th>\n",
       "      <th>99</th>\n",
       "      <th>100</th>\n",
       "      <th>101</th>\n",
       "    </tr>\n",
       "  </thead>\n",
       "  <tbody>\n",
       "    <tr>\n",
       "      <th>0</th>\n",
       "      <td>NaN</td>\n",
       "      <td>2605/0800</td>\n",
       "      <td>6445N/04030E</td>\n",
       "      <td>NaN</td>\n",
       "      <td>300/8</td>\n",
       "      <td>0/0</td>\n",
       "      <td>NaN</td>\n",
       "      <td>NaN</td>\n",
       "      <td>NaN</td>\n",
       "      <td>NaN</td>\n",
       "      <td>...</td>\n",
       "      <td>NaN</td>\n",
       "      <td>NaN</td>\n",
       "      <td>NaN</td>\n",
       "      <td>NaN</td>\n",
       "      <td>NaN</td>\n",
       "      <td>NaN</td>\n",
       "      <td>NaN</td>\n",
       "      <td>NaN</td>\n",
       "      <td>Груза нет</td>\n",
       "      <td>Установка береговыми специалистами видеокамер ...</td>\n",
       "    </tr>\n",
       "  </tbody>\n",
       "</table>\n",
       "<p>1 rows × 102 columns</p>\n",
       "</div>"
      ],
      "text/plain": [
       "   0          1             2    3      4    5    6    7    8    9    ...  \\\n",
       "0  NaN  2605/0800  6445N/04030E  NaN  300/8  0/0  NaN  NaN  NaN  NaN  ...   \n",
       "\n",
       "   92   93   94   95   96   97   98   99         100  \\\n",
       "0  NaN  NaN  NaN  NaN  NaN  NaN  NaN  NaN  Груза нет   \n",
       "\n",
       "                                                 101  \n",
       "0  Установка береговыми специалистами видеокамер ...  \n",
       "\n",
       "[1 rows x 102 columns]"
      ]
     },
     "execution_count": 216,
     "metadata": {},
     "output_type": "execute_result"
    }
   ],
   "source": [
    "df"
   ]
  },
  {
   "cell_type": "code",
   "execution_count": 217,
   "metadata": {},
   "outputs": [
    {
     "name": "stdout",
     "output_type": "stream",
     "text": [
      "<class 'pandas.core.frame.DataFrame'>\n",
      "Index: 1 entries, 0 to 0\n",
      "Data columns (total 10 columns):\n",
      " #   Column  Non-Null Count  Dtype \n",
      "---  ------  --------------  ----- \n",
      " 0   1       1 non-null      object\n",
      " 1   2       1 non-null      object\n",
      " 2   4       1 non-null      object\n",
      " 3   5       1 non-null      object\n",
      " 4   26      1 non-null      object\n",
      " 5   27      1 non-null      object\n",
      " 6   31      1 non-null      object\n",
      " 7   43      1 non-null      object\n",
      " 8   100     1 non-null      object\n",
      " 9   101     1 non-null      object\n",
      "dtypes: object(10)\n",
      "memory usage: 88.0+ bytes\n"
     ]
    }
   ],
   "source": [
    "df.dropna(axis=1).info()"
   ]
  },
  {
   "cell_type": "code",
   "execution_count": 218,
   "metadata": {},
   "outputs": [
    {
     "data": {
      "text/html": [
       "<div>\n",
       "<style scoped>\n",
       "    .dataframe tbody tr th:only-of-type {\n",
       "        vertical-align: middle;\n",
       "    }\n",
       "\n",
       "    .dataframe tbody tr th {\n",
       "        vertical-align: top;\n",
       "    }\n",
       "\n",
       "    .dataframe thead th {\n",
       "        text-align: right;\n",
       "    }\n",
       "</style>\n",
       "<table border=\"1\" class=\"dataframe\">\n",
       "  <thead>\n",
       "    <tr style=\"text-align: right;\">\n",
       "      <th></th>\n",
       "      <th>1</th>\n",
       "      <th>2</th>\n",
       "      <th>4</th>\n",
       "      <th>5</th>\n",
       "      <th>26</th>\n",
       "      <th>27</th>\n",
       "      <th>31</th>\n",
       "      <th>43</th>\n",
       "      <th>100</th>\n",
       "      <th>101</th>\n",
       "    </tr>\n",
       "  </thead>\n",
       "  <tbody>\n",
       "    <tr>\n",
       "      <th>0</th>\n",
       "      <td>2605/0800</td>\n",
       "      <td>6445N/04030E</td>\n",
       "      <td>300/8</td>\n",
       "      <td>0/0</td>\n",
       "      <td>2105/1825</td>\n",
       "      <td>ТВА</td>\n",
       "      <td>88,3/137,4</td>\n",
       "      <td>Архангельск</td>\n",
       "      <td>Груза нет</td>\n",
       "      <td>Установка береговыми специалистами видеокамер ...</td>\n",
       "    </tr>\n",
       "  </tbody>\n",
       "</table>\n",
       "</div>"
      ],
      "text/plain": [
       "         1             2      4    5          26   27          31   \\\n",
       "0  2605/0800  6445N/04030E  300/8  0/0  2105/1825  ТВА  88,3/137,4   \n",
       "\n",
       "           43         100                                                101  \n",
       "0  Архангельск  Груза нет  Установка береговыми специалистами видеокамер ...  "
      ]
     },
     "execution_count": 218,
     "metadata": {},
     "output_type": "execute_result"
    }
   ],
   "source": [
    "df.dropna(axis=1)"
   ]
  },
  {
   "cell_type": "code",
   "execution_count": 223,
   "metadata": {},
   "outputs": [
    {
     "data": {
      "text/plain": [
       "1"
      ]
     },
     "execution_count": 223,
     "metadata": {},
     "output_type": "execute_result"
    }
   ],
   "source": [
    "len(df.values.tolist())"
   ]
  },
  {
   "cell_type": "code",
   "execution_count": 225,
   "metadata": {},
   "outputs": [
    {
     "data": {
      "text/plain": [
       "{0: {0: nan},\n",
       " 1: {0: '2605/0800'},\n",
       " 2: {0: '6445N/04030E'},\n",
       " 3: {0: nan},\n",
       " 4: {0: '300/8'},\n",
       " 5: {0: '0/0'},\n",
       " 6: {0: nan},\n",
       " 7: {0: nan},\n",
       " 8: {0: nan},\n",
       " 9: {0: nan},\n",
       " 10: {0: nan},\n",
       " 11: {0: nan},\n",
       " 12: {0: nan},\n",
       " 13: {0: nan},\n",
       " 14: {0: nan},\n",
       " 15: {0: nan},\n",
       " 16: {0: nan},\n",
       " 17: {0: nan},\n",
       " 18: {0: nan},\n",
       " 19: {0: nan},\n",
       " 20: {0: nan},\n",
       " 21: {0: nan},\n",
       " 22: {0: nan},\n",
       " 23: {0: nan},\n",
       " 24: {0: nan},\n",
       " 25: {0: nan},\n",
       " 26: {0: '2105/1825'},\n",
       " 27: {0: 'ТВА'},\n",
       " 28: {0: nan},\n",
       " 29: {0: nan},\n",
       " 30: {0: nan},\n",
       " 31: {0: '88,3/137,4'},\n",
       " 32: {0: nan},\n",
       " 33: {0: nan},\n",
       " 34: {0: nan},\n",
       " 35: {0: nan},\n",
       " 36: {0: nan},\n",
       " 37: {0: nan},\n",
       " 38: {0: nan},\n",
       " 39: {0: nan},\n",
       " 40: {0: nan},\n",
       " 41: {0: nan},\n",
       " 42: {0: nan},\n",
       " 43: {0: 'Архангельск'},\n",
       " 44: {0: nan},\n",
       " 45: {0: nan},\n",
       " 46: {0: nan},\n",
       " 47: {0: nan},\n",
       " 48: {0: nan},\n",
       " 49: {0: nan},\n",
       " 50: {0: nan},\n",
       " 51: {0: nan},\n",
       " 52: {0: nan},\n",
       " 53: {0: nan},\n",
       " 54: {0: nan},\n",
       " 55: {0: nan},\n",
       " 56: {0: nan},\n",
       " 57: {0: nan},\n",
       " 58: {0: nan},\n",
       " 59: {0: nan},\n",
       " 60: {0: nan},\n",
       " 61: {0: nan},\n",
       " 62: {0: nan},\n",
       " 63: {0: nan},\n",
       " 64: {0: nan},\n",
       " 65: {0: nan},\n",
       " 66: {0: nan},\n",
       " 67: {0: nan},\n",
       " 68: {0: nan},\n",
       " 69: {0: nan},\n",
       " 70: {0: nan},\n",
       " 71: {0: nan},\n",
       " 72: {0: nan},\n",
       " 73: {0: nan},\n",
       " 74: {0: nan},\n",
       " 75: {0: nan},\n",
       " 76: {0: nan},\n",
       " 77: {0: nan},\n",
       " 78: {0: nan},\n",
       " 79: {0: nan},\n",
       " 80: {0: nan},\n",
       " 81: {0: nan},\n",
       " 82: {0: nan},\n",
       " 83: {0: nan},\n",
       " 84: {0: nan},\n",
       " 85: {0: nan},\n",
       " 86: {0: nan},\n",
       " 87: {0: nan},\n",
       " 88: {0: nan},\n",
       " 89: {0: nan},\n",
       " 90: {0: nan},\n",
       " 91: {0: nan},\n",
       " 92: {0: nan},\n",
       " 93: {0: nan},\n",
       " 94: {0: nan},\n",
       " 95: {0: nan},\n",
       " 96: {0: nan},\n",
       " 97: {0: nan},\n",
       " 98: {0: nan},\n",
       " 99: {0: nan},\n",
       " 100: {0: 'Груза нет'},\n",
       " 101: {0: 'Установка береговыми специалистами видеокамер согласно Транспортной безопасности '}}"
      ]
     },
     "execution_count": 225,
     "metadata": {},
     "output_type": "execute_result"
    }
   ],
   "source": [
    "df.to_dict()"
   ]
  },
  {
   "cell_type": "code",
   "execution_count": null,
   "metadata": {},
   "outputs": [],
   "source": []
  }
 ],
 "metadata": {
  "kernelspec": {
   "display_name": "dispenv",
   "language": "python",
   "name": "python3"
  },
  "language_info": {
   "codemirror_mode": {
    "name": "ipython",
    "version": 3
   },
   "file_extension": ".py",
   "mimetype": "text/x-python",
   "name": "python",
   "nbconvert_exporter": "python",
   "pygments_lexer": "ipython3",
   "version": "3.12.3"
  }
 },
 "nbformat": 4,
 "nbformat_minor": 2
}
