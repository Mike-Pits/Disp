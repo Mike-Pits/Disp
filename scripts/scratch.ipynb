{
 "cells": [
  {
   "cell_type": "code",
   "execution_count": 16,
   "metadata": {},
   "outputs": [],
   "source": [
    "import pandas as pd"
   ]
  },
  {
   "cell_type": "code",
   "execution_count": 17,
   "metadata": {},
   "outputs": [],
   "source": [
    "block = pd.read_clipboard(sep='\\t')\n",
    "\n",
    "COLUMN_NAMES = [l for l in range(0, 104)]\n",
    "df = pd.DataFrame(columns=COLUMN_NAMES, index=[0])\n",
    "\n",
    "list_data = block.T.reset_index().values\n",
    "\n",
    "for i in range(len(list_data[0])):\n",
    "    if list_data[0][i].split()[0].isdigit():\n",
    "        df.iloc[0, int(list_data[0][i].split()[0])] = ' '.join(list_data[0][i].split()[1:][:])\n",
    "    elif list_data[0][i].split()[0] == 'т/к':\n",
    "        df.iloc[0, 0] = list_data[0][i][4:]\n",
    "    elif list_data[0][i].split()[0].lower() == 'дисп':\n",
    "        df.iloc[0, 102] = list_data[0][i].split()[1]\n",
    "    else:\n",
    "        df.iloc[0, 103] = list_data[0][i]"
   ]
  },
  {
   "cell_type": "code",
   "execution_count": 18,
   "metadata": {},
   "outputs": [
    {
     "data": {
      "text/html": [
       "<div>\n",
       "<style scoped>\n",
       "    .dataframe tbody tr th:only-of-type {\n",
       "        vertical-align: middle;\n",
       "    }\n",
       "\n",
       "    .dataframe tbody tr th {\n",
       "        vertical-align: top;\n",
       "    }\n",
       "\n",
       "    .dataframe thead th {\n",
       "        text-align: right;\n",
       "    }\n",
       "</style>\n",
       "<table border=\"1\" class=\"dataframe\">\n",
       "  <thead>\n",
       "    <tr style=\"text-align: right;\">\n",
       "      <th></th>\n",
       "      <th>0</th>\n",
       "      <th>1</th>\n",
       "      <th>2</th>\n",
       "      <th>3</th>\n",
       "      <th>4</th>\n",
       "      <th>5</th>\n",
       "      <th>6</th>\n",
       "      <th>7</th>\n",
       "      <th>8</th>\n",
       "      <th>9</th>\n",
       "      <th>...</th>\n",
       "      <th>94</th>\n",
       "      <th>95</th>\n",
       "      <th>96</th>\n",
       "      <th>97</th>\n",
       "      <th>98</th>\n",
       "      <th>99</th>\n",
       "      <th>100</th>\n",
       "      <th>101</th>\n",
       "      <th>102</th>\n",
       "      <th>103</th>\n",
       "    </tr>\n",
       "  </thead>\n",
       "  <tbody>\n",
       "    <tr>\n",
       "      <th>0</th>\n",
       "      <td>«СП Дудинка»</td>\n",
       "      <td>2505/0800</td>\n",
       "      <td>6458N/04000E</td>\n",
       "      <td>NaN</td>\n",
       "      <td>040/9</td>\n",
       "      <td>040/1</td>\n",
       "      <td>NaN</td>\n",
       "      <td>NaN</td>\n",
       "      <td>NaN</td>\n",
       "      <td>NaN</td>\n",
       "      <td>...</td>\n",
       "      <td>NaN</td>\n",
       "      <td>NaN</td>\n",
       "      <td>NaN</td>\n",
       "      <td>NaN</td>\n",
       "      <td>NaN</td>\n",
       "      <td>NaN</td>\n",
       "      <td>–</td>\n",
       "      <td>NaN</td>\n",
       "      <td>05/04-2024</td>\n",
       "      <td>Капитан Корнилов Н.В.</td>\n",
       "    </tr>\n",
       "  </tbody>\n",
       "</table>\n",
       "<p>1 rows × 104 columns</p>\n",
       "</div>"
      ],
      "text/plain": [
       "            0          1             2    3      4      5    6    7    8    \\\n",
       "0  «СП Дудинка»  2505/0800  6458N/04000E  NaN  040/9  040/1  NaN  NaN  NaN   \n",
       "\n",
       "   9    ...  94   95   96   97   98   99  100  101         102  \\\n",
       "0  NaN  ...  NaN  NaN  NaN  NaN  NaN  NaN   –  NaN  05/04-2024   \n",
       "\n",
       "                     103  \n",
       "0  Капитан Корнилов Н.В.  \n",
       "\n",
       "[1 rows x 104 columns]"
      ]
     },
     "execution_count": 18,
     "metadata": {},
     "output_type": "execute_result"
    }
   ],
   "source": [
    "df"
   ]
  }
 ],
 "metadata": {
  "kernelspec": {
   "display_name": "dispenv",
   "language": "python",
   "name": "python3"
  },
  "language_info": {
   "codemirror_mode": {
    "name": "ipython",
    "version": 3
   },
   "file_extension": ".py",
   "mimetype": "text/x-python",
   "name": "python",
   "nbconvert_exporter": "python",
   "pygments_lexer": "ipython3",
   "version": "3.12.3"
  }
 },
 "nbformat": 4,
 "nbformat_minor": 2
}
